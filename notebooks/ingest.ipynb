{
 "cells": [
  {
   "cell_type": "markdown",
   "id": "d56d32a2",
   "metadata": {},
   "source": [
    "# Ingest facts from the url "
   ]
  },
  {
   "cell_type": "code",
   "execution_count": 20,
   "id": "ce1cd2d1",
   "metadata": {},
   "outputs": [],
   "source": [
    "import requests\n",
    "import os\n",
    "from datetime import datetime\n"
   ]
  },
  {
   "cell_type": "markdown",
   "id": "6221837a",
   "metadata": {},
   "source": [
    "## Fetch a single fact\n"
   ]
  },
  {
   "cell_type": "code",
   "execution_count": 21,
   "id": "76c8e5a0",
   "metadata": {},
   "outputs": [],
   "source": [
    "def get_fact():\n",
    "    url = \"https://uselessfacts.jsph.pl/api/v2/facts/random?language=en\"\n",
    "    try:\n",
    "        response = requests.get(url)\n",
    "        response.raise_for_status()\n",
    "        data = response.json()\n",
    "        return data.get(\"text\")\n",
    "    except requests.exceptions.RequestException as e:\n",
    "        print(f\"Error fetching fact: {e}\")\n",
    "        return None"
   ]
  },
  {
   "cell_type": "markdown",
   "id": "bdc7504c",
   "metadata": {},
   "source": [
    "## Fetch multiple facts"
   ]
  },
  {
   "cell_type": "code",
   "execution_count": 22,
   "id": "421eea30",
   "metadata": {},
   "outputs": [],
   "source": [
    "def get_facts(n=10):\n",
    "    facts = []\n",
    "    for _ in range(n):\n",
    "        fact = get_fact()\n",
    "        if fact:\n",
    "            facts.append(fact)\n",
    "    return facts\n"
   ]
  },
  {
   "cell_type": "markdown",
   "id": "9e3a3b30",
   "metadata": {},
   "source": [
    "## Save facts to a .txt file, each on a separate line"
   ]
  },
  {
   "cell_type": "code",
   "execution_count": 23,
   "id": "7f619297",
   "metadata": {},
   "outputs": [],
   "source": [
    "def save_facts_to_txt(facts):\n",
    "    if not facts:\n",
    "        print(\"No facts to save.\")\n",
    "        return\n",
    "\n",
    "    timestamp = datetime.now().strftime(\"%Y-%m-%d_%H-%M\")\n",
    "    folder_path = \"data/raw\"\n",
    "    os.makedirs(folder_path, exist_ok=True)\n",
    "\n",
    "    file_path = os.path.join(folder_path, f\"facts_{timestamp}.txt\")\n",
    "\n",
    "    with open(file_path, \"w\", encoding=\"utf-8\") as f:\n",
    "        for fact in facts:\n",
    "            f.write(fact + \"\\n\")  # each fact on its own line\n",
    "\n",
    "    print(f\"{len(facts)} facts saved to '{file_path}'\")\n",
    "    if os.path.getsize(file_path) > 0:\n",
    "        print(\"Ingestion successful!\")\n"
   ]
  },
  {
   "cell_type": "code",
   "execution_count": 24,
   "id": "0a2be99e",
   "metadata": {},
   "outputs": [
    {
     "name": "stdout",
     "output_type": "stream",
     "text": [
      "10 facts saved to 'data/raw/facts_2025-07-21_12-23.txt'\n",
      "Ingestion successful!\n"
     ]
    }
   ],
   "source": [
    "if __name__ == '__main__':\n",
    "    facts = get_facts(10)\n",
    "    save_facts_to_txt(facts)"
   ]
  }
 ],
 "metadata": {
  "kernelspec": {
   "display_name": "base",
   "language": "python",
   "name": "python3"
  },
  "language_info": {
   "codemirror_mode": {
    "name": "ipython",
    "version": 3
   },
   "file_extension": ".py",
   "mimetype": "text/x-python",
   "name": "python",
   "nbconvert_exporter": "python",
   "pygments_lexer": "ipython3",
   "version": "3.12.7"
  }
 },
 "nbformat": 4,
 "nbformat_minor": 5
}
