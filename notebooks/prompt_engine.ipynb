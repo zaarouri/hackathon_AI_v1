{
 "cells": [
  {
   "cell_type": "code",
   "execution_count": null,
   "id": "e328e440",
   "metadata": {},
   "outputs": [],
   "source": [
    "import pandas as pd, os"
   ]
  },
  {
   "cell_type": "code",
   "execution_count": null,
   "id": "f578d066",
   "metadata": {},
   "outputs": [],
   "source": [
    "def call_model(prompt: str) -> str:\n",
    "    return f\"Model response for: {prompt}\""
   ]
  },
  {
   "cell_type": "code",
   "execution_count": 6,
   "id": "1b3745b2",
   "metadata": {},
   "outputs": [],
   "source": [
    "def transform(filepath):\n",
    "    with open(filepath, \"r\") as f:\n",
    "        lines = [line.strip() for line in f if line.strip()]\n",
    "\n",
    "    df_facts = pd.DataFrame({\n",
    "        \"prompt\": [f\"explain why {line} is interesting to humans\" for line in lines]\n",
    "    })\n",
    "    return df_facts\n"
   ]
  },
  {
   "cell_type": "code",
   "execution_count": 7,
   "id": "7571c5f4",
   "metadata": {},
   "outputs": [
    {
     "data": {
      "text/html": [
       "<div>\n",
       "<style scoped>\n",
       "    .dataframe tbody tr th:only-of-type {\n",
       "        vertical-align: middle;\n",
       "    }\n",
       "\n",
       "    .dataframe tbody tr th {\n",
       "        vertical-align: top;\n",
       "    }\n",
       "\n",
       "    .dataframe thead th {\n",
       "        text-align: right;\n",
       "    }\n",
       "</style>\n",
       "<table border=\"1\" class=\"dataframe\">\n",
       "  <thead>\n",
       "    <tr style=\"text-align: right;\">\n",
       "      <th></th>\n",
       "      <th>prompt</th>\n",
       "    </tr>\n",
       "  </thead>\n",
       "  <tbody>\n",
       "    <tr>\n",
       "      <th>0</th>\n",
       "      <td>explain why The first song played on Armed For...</td>\n",
       "    </tr>\n",
       "    <tr>\n",
       "      <th>1</th>\n",
       "      <td>explain why The airplane Buddy Holly died in w...</td>\n",
       "    </tr>\n",
       "    <tr>\n",
       "      <th>2</th>\n",
       "      <td>explain why Americans travel 1,144,721,000 mil...</td>\n",
       "    </tr>\n",
       "    <tr>\n",
       "      <th>3</th>\n",
       "      <td>explain why In 1778, fashionable women of Pari...</td>\n",
       "    </tr>\n",
       "    <tr>\n",
       "      <th>4</th>\n",
       "      <td>explain why In 1980, a Las Vegas hospital susp...</td>\n",
       "    </tr>\n",
       "    <tr>\n",
       "      <th>5</th>\n",
       "      <td>explain why On average, Americans` favorite sm...</td>\n",
       "    </tr>\n",
       "    <tr>\n",
       "      <th>6</th>\n",
       "      <td>explain why Jefferson invented the dumbwaiter,...</td>\n",
       "    </tr>\n",
       "    <tr>\n",
       "      <th>7</th>\n",
       "      <td>explain why The Human eyes never grow, but nos...</td>\n",
       "    </tr>\n",
       "    <tr>\n",
       "      <th>8</th>\n",
       "      <td>explain why In the White House, there are 13,0...</td>\n",
       "    </tr>\n",
       "    <tr>\n",
       "      <th>9</th>\n",
       "      <td>explain why When a Hawaiian woman wears a flow...</td>\n",
       "    </tr>\n",
       "  </tbody>\n",
       "</table>\n",
       "</div>"
      ],
      "text/plain": [
       "                                              prompt\n",
       "0  explain why The first song played on Armed For...\n",
       "1  explain why The airplane Buddy Holly died in w...\n",
       "2  explain why Americans travel 1,144,721,000 mil...\n",
       "3  explain why In 1778, fashionable women of Pari...\n",
       "4  explain why In 1980, a Las Vegas hospital susp...\n",
       "5  explain why On average, Americans` favorite sm...\n",
       "6  explain why Jefferson invented the dumbwaiter,...\n",
       "7  explain why The Human eyes never grow, but nos...\n",
       "8  explain why In the White House, there are 13,0...\n",
       "9  explain why When a Hawaiian woman wears a flow..."
      ]
     },
     "execution_count": 7,
     "metadata": {},
     "output_type": "execute_result"
    }
   ],
   "source": [
    "df1 =transform(\"data/raw/facts_2025-07-21_12-23.txt\")\n",
    "df1"
   ]
  }
 ],
 "metadata": {
  "kernelspec": {
   "display_name": "base",
   "language": "python",
   "name": "python3"
  },
  "language_info": {
   "codemirror_mode": {
    "name": "ipython",
    "version": 3
   },
   "file_extension": ".py",
   "mimetype": "text/x-python",
   "name": "python",
   "nbconvert_exporter": "python",
   "pygments_lexer": "ipython3",
   "version": "3.12.7"
  }
 },
 "nbformat": 4,
 "nbformat_minor": 5
}
